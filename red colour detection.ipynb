{
 "cells": [
  {
   "cell_type": "code",
   "execution_count": 6,
   "metadata": {},
   "outputs": [],
   "source": [
    "import cv2\n",
    "import numpy as np"
   ]
  },
  {
   "cell_type": "code",
   "execution_count": 7,
   "metadata": {},
   "outputs": [
    {
     "name": "stdout",
     "output_type": "stream",
     "text": [
      "image0captured\n",
      "image0captured\n",
      "image0captured\n",
      "image0captured\n"
     ]
    }
   ],
   "source": [
    "#this program detects the red colour on webcam and captures the images when u click space button\n",
    "\n",
    "#for webcam capture\n",
    "vid=cv2.VideoCapture(0)\n",
    "\n",
    "#for local storage video\n",
    "#vid=cv2.VideoCapture(url)\n",
    "\n",
    "if vid.isOpened()==False:\n",
    "    print(\"unable to read camera\")\n",
    "\n",
    "framewidth=int(vid.get(3))\n",
    "frameheight=int(vid.get(4)) \n",
    "\n",
    "out=cv2.VideoWriter('redobject.avi',cv2.VideoWriter_fourcc('M','P','4','2'),10,(framewidth,frameheight))\n",
    "while True:\n",
    "    ret, frame=vid.read()\n",
    "    if ret ==True:\n",
    "        \n",
    "        hsvframe=cv2.cvtColor(frame, cv2.COLOR_BGR2HSV)\n",
    "        \n",
    "        lred=np.array([161,155,84])\n",
    "        hred=np.array([179,255,255])\n",
    "    \n",
    "        redobject=cv2.inRange(hsvframe, lred, hred)\n",
    "    \n",
    "        red=cv2.bitwise_and(frame,frame,mask=redobject)\n",
    "        cv2.flip(red,180)\n",
    "        out.write(red)#storing video\n",
    "        \n",
    "        #capturing image\n",
    "        count=0\n",
    "        k=cv2.waitKey(1)\n",
    "        if k%256==27:\n",
    "            print(\"close\")\n",
    "            break\n",
    "        elif k%256==32:\n",
    "            print(\"image\"+str(count)+\"captured\")\n",
    "            file='C:/Users/lamup/redimages/img'+str(count)+'.jpg'\n",
    "            cv2.imwrite(file,frame)\n",
    "            count+=1\n",
    "        else:\n",
    "            breakq\n",
    "        \n",
    "        \n",
    "    \n",
    "        cv2.imshow(\"Frame\", frame)\n",
    "        cv2.imshow(\"Red\",red)\n",
    "    \n",
    "        #to stop loop need to press esc button\n",
    "        if(cv2.waitKey(1) & 0xFF==ord('q')):\n",
    "            break\n",
    "    else:\n",
    "        break\n",
    "        \n",
    "    \n",
    "    \n",
    "    \n",
    "    \n",
    "        \n",
    "vid.release()\n",
    "cv2.destroyAllWindows()"
   ]
  },
  {
   "cell_type": "code",
   "execution_count": null,
   "metadata": {},
   "outputs": [],
   "source": []
  }
 ],
 "metadata": {
  "kernelspec": {
   "display_name": "Python 3",
   "language": "python",
   "name": "python3"
  },
  "language_info": {
   "codemirror_mode": {
    "name": "ipython",
    "version": 3
   },
   "file_extension": ".py",
   "mimetype": "text/x-python",
   "name": "python",
   "nbconvert_exporter": "python",
   "pygments_lexer": "ipython3",
   "version": "3.8.5"
  }
 },
 "nbformat": 4,
 "nbformat_minor": 4
}
